{
 "cells": [
  {
   "cell_type": "markdown",
   "id": "d673145c-ce6b-46a4-8408-e555437921e1",
   "metadata": {},
   "source": [
    "# This is a simple for loop in python to print numbers 1 to 20\n"
   ]
  },
  {
   "cell_type": "code",
   "execution_count": 2,
   "id": "5a2ecfb9-7132-43ee-8225-2bd9c79a63d4",
   "metadata": {},
   "outputs": [
    {
     "name": "stdout",
     "output_type": "stream",
     "text": [
      "1\n",
      "2\n",
      "3\n",
      "4\n",
      "5\n",
      "6\n",
      "7\n",
      "8\n",
      "9\n",
      "10\n",
      "11\n",
      "12\n",
      "13\n",
      "14\n",
      "15\n",
      "16\n",
      "17\n",
      "18\n",
      "19\n",
      "20\n"
     ]
    }
   ],
   "source": [
    "for i in range(1,21):\n",
    "    print(i)\n"
   ]
  },
  {
   "cell_type": "markdown",
   "id": "4218a96b-72ba-4b60-b699-1dda376127b8",
   "metadata": {},
   "source": [
    "# this second for loop squares numbers 1 to 20 and then prints it"
   ]
  },
  {
   "cell_type": "code",
   "execution_count": 3,
   "id": "f411cd85-b039-41ab-9483-80dac9f7b3fc",
   "metadata": {},
   "outputs": [
    {
     "name": "stdout",
     "output_type": "stream",
     "text": [
      "1 squared is:  1\n",
      "2 squared is:  4\n",
      "3 squared is:  9\n",
      "4 squared is:  16\n",
      "5 squared is:  25\n",
      "6 squared is:  36\n",
      "7 squared is:  49\n",
      "8 squared is:  64\n",
      "9 squared is:  81\n",
      "10 squared is:  100\n",
      "11 squared is:  121\n",
      "12 squared is:  144\n",
      "13 squared is:  169\n",
      "14 squared is:  196\n",
      "15 squared is:  225\n",
      "16 squared is:  256\n",
      "17 squared is:  289\n",
      "18 squared is:  324\n",
      "19 squared is:  361\n",
      "20 squared is:  400\n"
     ]
    }
   ],
   "source": [
    "for i in range(1,21):\n",
    "    print (f'{i} squared is: ', i**2)\n",
    "\n"
   ]
  },
  {
   "cell_type": "code",
   "execution_count": null,
   "id": "f143a99f-8d56-42db-b656-f432c87ead1d",
   "metadata": {},
   "outputs": [],
   "source": []
  }
 ],
 "metadata": {
  "kernelspec": {
   "display_name": "Python (learn-env)",
   "language": "python",
   "name": "learn-env"
  },
  "language_info": {
   "codemirror_mode": {
    "name": "ipython",
    "version": 3
   },
   "file_extension": ".py",
   "mimetype": "text/x-python",
   "name": "python",
   "nbconvert_exporter": "python",
   "pygments_lexer": "ipython3",
   "version": "3.8.5"
  }
 },
 "nbformat": 4,
 "nbformat_minor": 5
}
